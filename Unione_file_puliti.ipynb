{
 "cells": [
  {
   "cell_type": "code",
   "execution_count": 2,
   "id": "7584702c-9fc0-4353-bf61-8bda94df557a",
   "metadata": {},
   "outputs": [],
   "source": [
    "import pandas as pd\n",
    "import os"
   ]
  },
  {
   "cell_type": "code",
   "execution_count": null,
   "id": "6666cf0c-9273-4134-a6a1-4c6a18b607bd",
   "metadata": {},
   "outputs": [],
   "source": [
    "# Leggi i due file CSV\n",
    "df_uomo = pd.read_csv(\"Scarpe_Sportive_uomo.csv\")\n",
    "df_donna = pd.read_csv(\"Scarpe_Sportive_donna.csv\")\n",
    "\n",
    "# Unisci i due DataFrame (appending)\n",
    "df_unito = pd.concat([df_uomo, df_donna], ignore_index=True)\n",
    "\n",
    "# Salva il risultato in un nuovo file CSV\n",
    "df_unito.to_csv(\"Scarpe_Sportive.csv\", index=False)\n",
    "\n",
    "# Stampa una conferma\n",
    "print(\"File unito e salvato come 'Scarpe_Sportive.csv'\")"
   ]
  }
 ],
 "metadata": {
  "kernelspec": {
   "display_name": "Python [conda env:base] *",
   "language": "python",
   "name": "conda-base-py"
  },
  "language_info": {
   "codemirror_mode": {
    "name": "ipython",
    "version": 3
   },
   "file_extension": ".py",
   "mimetype": "text/x-python",
   "name": "python",
   "nbconvert_exporter": "python",
   "pygments_lexer": "ipython3",
   "version": "3.12.7"
  }
 },
 "nbformat": 4,
 "nbformat_minor": 5
}
